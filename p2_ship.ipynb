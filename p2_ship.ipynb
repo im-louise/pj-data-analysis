{
 "cells": [
  {
   "cell_type": "markdown",
   "id": "67c874ae",
   "metadata": {},
   "source": [
    "# 과제2 : 배송 성과 분석 및 지역별 물류 최적화 방안\n",
    "주문부터 배송 완료까지의 시간을 분석하고, 지역별 배송 성과 차이를 파악하여 물류 최적화 방안을 도출하세요. 배송 지연이 고객 만족도(리뷰 점수)에 미치는 영향도 함께 분석하세요."
   ]
  },
  {
   "cell_type": "code",
   "execution_count": null,
   "id": "77095a17",
   "metadata": {
    "vscode": {
     "languageId": "plaintext"
    }
   },
   "outputs": [],
   "source": []
  }
 ],
 "metadata": {
  "language_info": {
   "name": "python"
  }
 },
 "nbformat": 4,
 "nbformat_minor": 5
}
