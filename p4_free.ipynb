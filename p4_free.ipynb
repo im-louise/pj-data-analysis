{
 "cells": [
  {
   "cell_type": "markdown",
   "id": "96a60375",
   "metadata": {},
   "source": [
    "# 자유 주제\n",
    "위 데이터를 활용하여 브라질 이커머스 시장의 성장 동력과 개선점을 종합적으로 분석하고, 비즈니스 성장을 위한 데이터 기반 전략을 자유롭게 제시하세요."
   ]
  },
  {
   "cell_type": "code",
   "execution_count": null,
   "id": "7e36953f",
   "metadata": {
    "vscode": {
     "languageId": "plaintext"
    }
   },
   "outputs": [],
   "source": []
  }
 ],
 "metadata": {
  "language_info": {
   "name": "python"
  }
 },
 "nbformat": 4,
 "nbformat_minor": 5
}
