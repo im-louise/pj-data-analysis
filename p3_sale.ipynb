{
 "cells": [
  {
   "cell_type": "markdown",
   "id": "3d955c47",
   "metadata": {},
   "source": [
    "# 과제3 : 상품 카테고리별 수요 예측 및 재고 관리 인사이트\n",
    "시간에 따른 상품 카테고리별 판매 트렌드를 분석하고, 계절성 패턴을 파악하여 향후 수요 예측과 재고 관리 전략을 수립하세요."
   ]
  },
  {
   "cell_type": "code",
   "execution_count": null,
   "id": "e053e724",
   "metadata": {
    "vscode": {
     "languageId": "plaintext"
    }
   },
   "outputs": [],
   "source": []
  }
 ],
 "metadata": {
  "language_info": {
   "name": "python"
  }
 },
 "nbformat": 4,
 "nbformat_minor": 5
}
